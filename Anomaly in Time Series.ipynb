{
 "cells": [
  {
   "cell_type": "code",
   "execution_count": 1,
   "metadata": {},
   "outputs": [],
   "source": [
    "import torchvision.transforms as transforms\n",
    "from torch.utils.data import Dataset\n",
    "import torch\n",
    "import os\n",
    "import numpy as np\n",
    "import matplotlib.pyplot as plt\n",
    "from astropy.io.fits import getdata\n",
    "from PIL import Image\n",
    "from IPython.utils.io import capture_output\n",
    "import efficientnet_pytorch\n",
    "from sklearn.neighbors import NearestNeighbors\n",
    "import time\n",
    "import sys\n",
    "\n",
    "\n",
    "transform = transforms.Compose([\n",
    "            transforms.Resize(224),\n",
    "            transforms.ToTensor(),\n",
    "            transforms.Normalize(mean=[0.5, 0.5, 0.5], std=[0.225, 0.225, 0.225]),\n",
    "        ])\n",
    "\n",
    "def fits_numpy(path, folder, size = 51):\n",
    "    folder_path = os.path.join(path,folder)\n",
    "    files= os.listdir(folder_path)\n",
    "    files=np.sort(files)\n",
    "    images = np.zeros((len(files), size , size,3), dtype= np.float32)\n",
    "    for i in range(len(files)):\n",
    "        file = files[i]\n",
    "        img = getdata(os.path.join(folder_path , file))\n",
    "        img = Image.fromarray(img).convert('RGB')\n",
    "        img= np.array(img)          \n",
    "        images[i]=img\n",
    "    return images,files\n",
    "\n",
    "def normalize(images):\n",
    "    min_val = np.min(images)\n",
    "    max_val = np.max(images)\n",
    "    range_val = max_val - min_val\n",
    "    normalized_images = ((images - min_val) / range_val)\n",
    "    return normalized_images\n",
    "\n",
    "class NumpyDataset(Dataset):\n",
    "\n",
    "    def __init__(self, data, transform=None):\n",
    "        self.data = data\n",
    "        self.transform = transform\n",
    "        \n",
    "    def __getitem__(self, index):\n",
    "        x = self.data[index]\n",
    "        if self.transform:\n",
    "            x = Image.fromarray(x.astype(np.uint8))\n",
    "            x = self.transform(x)\n",
    "        return x\n",
    "    \n",
    "    def __len__(self):\n",
    "        return len(self.data)\n",
    "\n",
    "@torch.no_grad()\n",
    "def get_latent_vectors(network, train_loader, device):\n",
    "    network.eval()\n",
    "    latent_vectors = []\n",
    "    for cnt, x in enumerate(train_loader):\n",
    "        x = x.to(device) \n",
    "        latent_vectors.append(network.extract_features(x).mean(dim=(2,3)))\n",
    "    latent_vectors = torch.cat(latent_vectors).cpu().numpy()\n",
    "    return latent_vectors  \n",
    "\n",
    "def blockPrinting(func):\n",
    "    def func_wrapper(*args, **kwargs):\n",
    "        with capture_output():\n",
    "            value = func(*args, **kwargs)\n",
    "        return value\n",
    "    return func_wrapper\n",
    "\n",
    "def blockPrint():\n",
    "    sys.stdout = open(os.devnull, 'w')\n",
    "\n",
    "def enablePrint():\n",
    "    sys.stdout = sys.__stdout__\n",
    "\n",
    "@blockPrinting\n",
    "def get_features(loader):\n",
    "    device = torch.device(\"cuda:0\" if torch.cuda.is_available() else \"cpu\")\n",
    "#     blockPrint()\n",
    "    network = efficientnet_pytorch.EfficientNet.from_pretrained('efficientnet-b0')\n",
    "#     enablePrint()    \n",
    "    network.to(device)\n",
    "    network.eval()\n",
    "    features = get_latent_vectors(network, loader, device)\n",
    "    return features\n",
    "\n",
    "def get_nns(query, neigh):\n",
    "    res = neigh.kneighbors(query)\n",
    "    similar = res[1][0]\n",
    "    dists = res[0][0]\n",
    "    return similar, dists\n",
    "\n",
    "def searchOutliers(objpath,rootpath=\"./\",size=51,plot=True,timeStamp=True):\n",
    "    newImgs, files= fits_numpy(rootpath,objpath,size) #select the path to the images and select the band folder of the images.\n",
    "    dataset = NumpyDataset(newImgs, transform = transform)\n",
    "    if \"linux\" in sys.platform:\n",
    "        nw=torch.get_num_threads()-1\n",
    "    else:\n",
    "        nw=0\n",
    "    loader = torch.utils.data.DataLoader(dataset, batch_size=16, shuffle=False, num_workers=nw)\n",
    "    features = get_features(loader)\n",
    "    neigh = NearestNeighbors(n_neighbors=16)\n",
    "    neigh.fit(features)\n",
    "    query_features = features[0].reshape(1, -1)\n",
    "    similar, dists = get_nns(query_features, neigh)\n",
    "    listaDist=[]\n",
    "    for indice in range(features.shape[0]):\n",
    "        query_features = features[indice].reshape(1, -1)\n",
    "        similar, dists = get_nns(query_features, neigh)\n",
    "        listaDist.append(dists[1])\n",
    "    stackedDist=listaDist[0]\n",
    "    outliersList=[]\n",
    "    newplot=plot\n",
    "    for arg in range(1,len(listaDist)):\n",
    "        if (listaDist[arg])>=stackedDist:\n",
    "            if newplot:\n",
    "                plt.hist(listaDist, color=\"#00afec\", bins=20, label = \"distribution of distances\")\n",
    "                plt.axvline(x = stackedDist, color = '#164c9d', label = 'position of the stacked')\n",
    "                plt.legend()\n",
    "                plt.title(objpath)\n",
    "                plt.show()\n",
    "                newplot=False\n",
    "            if plot:\n",
    "                plt.imshow(newImgs[arg,:,:,0])\n",
    "                plt.title(files[arg])\n",
    "                plt.show()\n",
    "                print(files[arg])\n",
    "            outliersList.append(files[arg]) \n",
    "#             print(arg,files[arg]) \n",
    "            t = time.localtime()\n",
    "    if not(newplot) and timeStamp:\n",
    "        current_time = time.strftime(\"%H:%M:%S\", t)\n",
    "        print(current_time)\n",
    "        print(80*\"-\")\n",
    "    return outliersList"
   ]
  },
  {
   "cell_type": "code",
   "execution_count": 2,
   "metadata": {},
   "outputs": [
    {
     "data": {
      "image/png": "[encoded data removed]",
      "text/plain": [
       "<Figure size 432x288 with 1 Axes>"
      ]
     },
     "metadata": {
      "needs_background": "light"
     },
     "output_type": "display_data"
    },
    {
     "data": {
      "image/png": "[encoded data removed]",
      "text/plain": [
       "<Figure size 432x288 with 1 Axes>"
      ]
     },
     "metadata": {
      "needs_background": "light"
     },
     "output_type": "display_data"
    },
    {
     "name": "stdout",
     "output_type": "stream",
     "text": [
      "0070_02.fits\n",
      "['0070_02.fits']\n"
     ]
    }
   ],
   "source": [
    "rootpath=\"LS_cutouts\"\n",
    "objpath=\"0070\"\n",
    "outliersList=searchOutliers(objpath,rootpath=rootpath,size=51,plot=True,timeStamp=False)\n",
    "print(outliersList)\n"
   ]
  }
 ],
 "metadata": {
  "kernelspec": {
   "display_name": "Python 3 (ipykernel)",
   "language": "python",
   "name": "python3"
  },
  "language_info": {
   "codemirror_mode": {
    "name": "ipython",
    "version": 3
   },
   "file_extension": ".py",
   "mimetype": "text/x-python",
   "name": "python",
   "nbconvert_exporter": "python",
   "pygments_lexer": "ipython3",
   "version": "3.10.12"
  }
 },
 "nbformat": 4,
 "nbformat_minor": 4
}
